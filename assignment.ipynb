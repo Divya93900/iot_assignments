{
 "cells": [
  {
   "cell_type": "code",
   "execution_count": 1,
   "id": "26d004b6-cbca-4a46-ac77-04fb23913914",
   "metadata": {},
   "outputs": [],
   "source": [
    "import numpy as np"
   ]
  },
  {
   "cell_type": "code",
   "execution_count": 2,
   "id": "6f6b1613-2ee0-450d-996d-81fb279bd895",
   "metadata": {},
   "outputs": [],
   "source": [
    "array = np.array([1,7,13,105])"
   ]
  },
  {
   "cell_type": "code",
   "execution_count": 3,
   "id": "60d13399-49ae-466c-8a47-85d11f35e0a5",
   "metadata": {},
   "outputs": [
    {
     "name": "stdout",
     "output_type": "stream",
     "text": [
      "type:<class 'numpy.ndarray'>\n",
      "size:4\n"
     ]
    }
   ],
   "source": [
    "print(f\"type:{type(array)}\")\n",
    "print(f\"size:{array.size}\")"
   ]
  },
  {
   "cell_type": "code",
   "execution_count": 4,
   "id": "9eff9958-c7e8-4006-b2cc-ddfe72211aa9",
   "metadata": {},
   "outputs": [],
   "source": [
    "def fun(a):\n",
    "    a1 =np.array([1,2,3,4,5])\n",
    "    a2 =np.array([6,7,8,9,0])\n",
    "    if a1[a]>a2[a]:\n",
    "        print(\"a1 greater\")\n",
    "    elif a1[a]<a2[a]:\n",
    "        print(\"a2 greater\")\n",
    "    else:\n",
    "        print(\"equal\")\n",
    "    "
   ]
  },
  {
   "cell_type": "code",
   "execution_count": 5,
   "id": "97d2dd35-c7c5-4402-b4b3-32168c835892",
   "metadata": {},
   "outputs": [
    {
     "name": "stdout",
     "output_type": "stream",
     "text": [
      "a2 greater\n"
     ]
    }
   ],
   "source": [
    "fun(2)"
   ]
  },
  {
   "cell_type": "code",
   "execution_count": 6,
   "id": "b360c2aa-2d33-4e0b-ac13-06614ab5977d",
   "metadata": {},
   "outputs": [
    {
     "name": "stdout",
     "output_type": "stream",
     "text": [
      "a1 greater\n"
     ]
    }
   ],
   "source": [
    "fun(4)"
   ]
  },
  {
   "cell_type": "code",
   "execution_count": 7,
   "id": "4f72ebbd-bb62-4763-8642-3e9f6cacde61",
   "metadata": {},
   "outputs": [],
   "source": [
    "def fun1():\n",
    "    array =np.zeros(10)\n",
    "    a1=np.ones(10)\n",
    "    a2=np.ones(10)*5\n",
    "    a3=np.ones(10)*10\n",
    "    a4=np.ones(10)*20\n",
    "    a5=np.ones(10)*50\n",
    "    print(array,a1,a2,a3,a4,a5)\n",
    "    "
   ]
  },
  {
   "cell_type": "code",
   "execution_count": 8,
   "id": "2999ba34-fc2d-4c25-9f19-080d5bacb2e3",
   "metadata": {},
   "outputs": [
    {
     "name": "stdout",
     "output_type": "stream",
     "text": [
      "[0. 0. 0. 0. 0. 0. 0. 0. 0. 0.] [1. 1. 1. 1. 1. 1. 1. 1. 1. 1.] [5. 5. 5. 5. 5. 5. 5. 5. 5. 5.] [10. 10. 10. 10. 10. 10. 10. 10. 10. 10.] [20. 20. 20. 20. 20. 20. 20. 20. 20. 20.] [50. 50. 50. 50. 50. 50. 50. 50. 50. 50.]\n"
     ]
    }
   ],
   "source": [
    "fun1()"
   ]
  },
  {
   "cell_type": "code",
   "execution_count": 9,
   "id": "cdb78a5d-57a8-45af-9335-a32589f62d88",
   "metadata": {},
   "outputs": [
    {
     "name": "stdout",
     "output_type": "stream",
     "text": [
      "[30 31 32 33 34 35 36 37 38 39 40 41 42 43 44 45 46 47 48 49 50 51 52 53\n",
      " 54 55 56 57 58 59 60 61 62 63 64 65 66 67 68 69 70] [50 51 52 53 54 55 56 57 58 59 60 61 62 63 64 65 66 67 68 69 70 71 72 73\n",
      " 74 75 76 77 78 79 80 81 82 83 84 85 86 87 88 89 90 91 92 93 94 95]\n"
     ]
    }
   ],
   "source": [
    "array=np.arange(30,71,1)\n",
    "array1=np.arange(50,96,1)\n",
    "print(array,array1)"
   ]
  },
  {
   "cell_type": "code",
   "execution_count": 10,
   "id": "e30d23ed-259f-470f-b51d-ccb89e343ae8",
   "metadata": {},
   "outputs": [
    {
     "name": "stdout",
     "output_type": "stream",
     "text": [
      "[20 22 24 26 28 30 32 34 36 38 40 42 44 46 48 50 52 54 56 58 60 62 64 66\n",
      " 68 70 72 74 76 78]\n"
     ]
    }
   ],
   "source": [
    "array=np.arange(20,80,2)\n",
    "print(array)"
   ]
  },
  {
   "cell_type": "code",
   "execution_count": 11,
   "id": "e43c8d0b-fb9f-4e98-a5dd-ef0554eb61eb",
   "metadata": {},
   "outputs": [
    {
     "name": "stdout",
     "output_type": "stream",
     "text": [
      "[21 23 25 27 29 31 33 35 37 39 41 43 45 47 49 51 53 55 57 59 61 63 65 67\n",
      " 69 71 73 75 77 79]\n"
     ]
    }
   ],
   "source": [
    "array=np.arange(21,80,2)\n",
    "print(array)"
   ]
  },
  {
   "cell_type": "code",
   "execution_count": 12,
   "id": "8f99cadc-5a5b-459a-9f98-6d1920128d39",
   "metadata": {},
   "outputs": [
    {
     "name": "stdout",
     "output_type": "stream",
     "text": [
      "[19 13 32 39 36 13 28 13 14 37 24 25 28 32 25]\n"
     ]
    }
   ],
   "source": [
    "array=np.random.randint(10,40,15)\n",
    "print(array)"
   ]
  },
  {
   "cell_type": "code",
   "execution_count": 13,
   "id": "7c7e1c30-6c5e-4ef9-8ad0-9b6549a31bbd",
   "metadata": {},
   "outputs": [
    {
     "name": "stdout",
     "output_type": "stream",
     "text": [
      "[41 40 40 47 41 36 37 32 45 44]\n"
     ]
    }
   ],
   "source": [
    "array=np.random.randint(30,50,10)\n",
    "print(array)"
   ]
  },
  {
   "cell_type": "code",
   "execution_count": 14,
   "id": "bd072d77-b6ed-4e1f-8972-25cc5f6e18d5",
   "metadata": {},
   "outputs": [
    {
     "name": "stdout",
     "output_type": "stream",
     "text": [
      "[52 81 57 55 56 50 63 50 82 78 71 82 57 57 71 84 87 87 88 55]\n"
     ]
    }
   ],
   "source": [
    "array=np.random.randint(50,90,20)\n",
    "print(array)"
   ]
  },
  {
   "cell_type": "code",
   "execution_count": 15,
   "id": "1a4890e0-6ff8-4adc-aaa4-85c564df845a",
   "metadata": {},
   "outputs": [
    {
     "name": "stdout",
     "output_type": "stream",
     "text": [
      "[10 10 10 10  5] [-8 -6 -4 -2  5] [ 9 16 21 24  0] [0.11111111 0.25       0.42857143 0.66666667        inf]\n"
     ]
    },
    {
     "name": "stderr",
     "output_type": "stream",
     "text": [
      "/tmp/ipykernel_17545/3102313400.py:3: RuntimeWarning: divide by zero encountered in divide\n",
      "  print((arr1+arr2),(arr1-arr2),(arr1*arr2),(arr1/arr2))\n"
     ]
    }
   ],
   "source": [
    "arr1=np.array([1,2,3,4,5])\n",
    "arr2=np.array([9,8,7,6,0])\n",
    "print((arr1+arr2),(arr1-arr2),(arr1*arr2),(arr1/arr2))"
   ]
  },
  {
   "cell_type": "code",
   "execution_count": 16,
   "id": "9e2849fa-e0d2-490e-b43b-5cf3dace5982",
   "metadata": {},
   "outputs": [
    {
     "name": "stdout",
     "output_type": "stream",
     "text": [
      "[[10 11 12 13]\n",
      " [14 15 16 17]\n",
      " [18 19 20 21]]\n"
     ]
    }
   ],
   "source": [
    "arr1=np.arange(10,22,1)\n",
    "arr1=arr1.reshape(3,4)\n",
    "print(arr1)\n"
   ]
  },
  {
   "cell_type": "raw",
   "id": "2429d394-1acb-424d-858a-b1e1fc188523",
   "metadata": {},
   "source": []
  },
  {
   "cell_type": "code",
   "execution_count": 17,
   "id": "9130385f-9cc4-4844-b693-cd20025f3269",
   "metadata": {},
   "outputs": [
    {
     "name": "stdout",
     "output_type": "stream",
     "text": [
      "[[1. 0. 0.]\n",
      " [0. 1. 0.]\n",
      " [0. 0. 1.]]\n"
     ]
    }
   ],
   "source": [
    "arr1=np.eye(3)\n",
    "#arr1=arr1.reshape(3,3)\n",
    "\n",
    "print(arr1)"
   ]
  },
  {
   "cell_type": "code",
   "execution_count": 18,
   "id": "9de14379-fd4b-4438-b709-489fd5de0e7c",
   "metadata": {},
   "outputs": [
    {
     "name": "stdout",
     "output_type": "stream",
     "text": [
      "(3, 3)\n"
     ]
    }
   ],
   "source": [
    "arr1=np.arange(10,19,1)\n",
    "arr1=arr1.reshape(3,3)\n",
    "dimensions=arr1.shape\n",
    "rows,coloum=dimensions\n",
    "print(dimensions)\n"
   ]
  },
  {
   "cell_type": "code",
   "execution_count": 19,
   "id": "b29ca9c5-cc07-48bb-9b69-761c5fe8466e",
   "metadata": {},
   "outputs": [
    {
     "name": "stdout",
     "output_type": "stream",
     "text": [
      "[[1 0 0 0 0]\n",
      " [0 2 0 0 0]\n",
      " [0 0 3 0 0]\n",
      " [0 0 0 4 0]\n",
      " [0 0 0 0 5]]\n"
     ]
    }
   ],
   "source": [
    "arr=np.diag([1,2,3,4,5])\n",
    "print(arr)"
   ]
  },
  {
   "cell_type": "code",
   "execution_count": 20,
   "id": "1e0438a9-d017-4b71-8f69-d67502c2be0f",
   "metadata": {},
   "outputs": [
    {
     "name": "stdout",
     "output_type": "stream",
     "text": [
      "[[[0.83430568 0.9253665  0.22630154]\n",
      "  [0.27582573 0.12306611 0.85495596]\n",
      "  [0.78247099 0.78748138 0.32616942]]\n",
      "\n",
      " [[0.90676579 0.08534848 0.65968638]\n",
      "  [0.29411802 0.4045212  0.63729469]\n",
      "  [0.87082996 0.03806309 0.28482837]]\n",
      "\n",
      " [[0.9134478  0.96533415 0.91794361]\n",
      "  [0.63579561 0.15980002 0.59509058]\n",
      "  [0.34475221 0.59615271 0.43605008]]]\n"
     ]
    }
   ],
   "source": [
    "arr=np.random.rand(3,3,3)\n",
    "print(arr)"
   ]
  },
  {
   "cell_type": "raw",
   "id": "227c9ea4-5b3a-4779-865c-c8e4bc2ffef6",
   "metadata": {},
   "source": []
  },
  {
   "cell_type": "code",
   "execution_count": 21,
   "id": "baec3c52-b7d0-4ce3-a989-ffa4fef15471",
   "metadata": {},
   "outputs": [
    {
     "name": "stdout",
     "output_type": "stream",
     "text": [
      "[[[0.33211109 0.86029193 0.39772945 0.78327503]\n",
      "  [0.94703902 0.15294646 0.2998508  0.9458313 ]\n",
      "  [0.65821539 0.16035085 0.23628286 0.91890853]]\n",
      "\n",
      " [[0.12003847 0.90663603 0.98322704 0.99595746]\n",
      "  [0.61042479 0.52146934 0.42343427 0.18027214]\n",
      "  [0.75288675 0.90260484 0.73834527 0.97747257]]]\n"
     ]
    }
   ],
   "source": [
    "arr=np.random.rand(2,3,4)\n",
    "print(arr)"
   ]
  },
  {
   "cell_type": "code",
   "execution_count": 22,
   "id": "e89ca671-a505-4f91-a99e-384522059a79",
   "metadata": {},
   "outputs": [
    {
     "name": "stdout",
     "output_type": "stream",
     "text": [
      "[1 2 3 4 5]\n"
     ]
    }
   ],
   "source": [
    "l1=[1,2,3,4,5]\n",
    "arr=np.array(l1)\n",
    "print(arr)"
   ]
  },
  {
   "cell_type": "code",
   "execution_count": 23,
   "id": "4c48186b-5999-4956-82ed-e14a7a0fbebd",
   "metadata": {},
   "outputs": [
    {
     "name": "stdout",
     "output_type": "stream",
     "text": [
      "[[ 2  3  4]\n",
      " [ 5  6  7]\n",
      " [ 8  9 10]]\n"
     ]
    }
   ],
   "source": [
    "l1=np.arange(2,11).reshape(3,3)\n",
    "print(l1)"
   ]
  },
  {
   "cell_type": "code",
   "execution_count": 24,
   "id": "e8ec8830-ef98-4caf-9ff7-f67db95c1b98",
   "metadata": {},
   "outputs": [
    {
     "name": "stdout",
     "output_type": "stream",
     "text": [
      "[12 13 14 15 16 17 18 19 20 21 22 23 24 25 26 27 28 29 30 31 32 33 34 35\n",
      " 36 37]\n"
     ]
    }
   ],
   "source": [
    "l1=np.arange(12,38)\n",
    "\n",
    "print(l1)"
   ]
  },
  {
   "cell_type": "code",
   "execution_count": 25,
   "id": "90a4a309-0f67-4fe3-a6b6-e1855fd3958d",
   "metadata": {},
   "outputs": [
    {
     "name": "stdout",
     "output_type": "stream",
     "text": [
      "[37 36 35 34 33 32 31 30 29 28 27 26 25 24 23 22 21 20 19 18 17 16 15 14\n",
      " 13 12]\n"
     ]
    }
   ],
   "source": [
    "l1=np.arange(12,38)\n",
    "print(l1[::-1])"
   ]
  },
  {
   "cell_type": "code",
   "execution_count": 26,
   "id": "e96aaa01-cc45-41b3-96a8-b4efaf9aa9ba",
   "metadata": {},
   "outputs": [
    {
     "name": "stdout",
     "output_type": "stream",
     "text": [
      "dtype=float64\n"
     ]
    }
   ],
   "source": [
    "arr=np.array([1,2,3,4,5],dtype=float)\n",
    "print(f\"dtype={arr.dtype}\")"
   ]
  },
  {
   "cell_type": "code",
   "execution_count": 27,
   "id": "780a9aef-dfc3-4961-81bb-1cf9d789a61d",
   "metadata": {},
   "outputs": [
    {
     "name": "stdout",
     "output_type": "stream",
     "text": [
      "[1 2 3 4 5]\n"
     ]
    }
   ],
   "source": [
    "l1=[1,2,3,4,5]\n",
    "arr=np.array(l1)\n",
    "print(arr)"
   ]
  },
  {
   "cell_type": "code",
   "execution_count": 28,
   "id": "a77eae35-0293-47c3-8561-756f45e092ae",
   "metadata": {},
   "outputs": [
    {
     "name": "stdout",
     "output_type": "stream",
     "text": [
      "[0 1 0 1 0 1 0 1]\n"
     ]
    }
   ],
   "source": [
    "a=np.arange(8)\n",
    "print(np.remainder(a,2))"
   ]
  },
  {
   "cell_type": "code",
   "execution_count": null,
   "id": "ae37a31a-63aa-48af-9c11-29ab88ca954b",
   "metadata": {},
   "outputs": [],
   "source": []
  },
  {
   "cell_type": "code",
   "execution_count": 32,
   "id": "92796146-1d70-4899-abe2-8c199ddbaddb",
   "metadata": {},
   "outputs": [
    {
     "name": "stdout",
     "output_type": "stream",
     "text": [
      "[2 0 1 2 0 1 2 0 1 2 0 1 2 0 1 2 0 1 2 0 1 2 0 1 2 0 1 2 0 1]\n"
     ]
    }
   ],
   "source": [
    "a=np.arange(20,50)\n",
    "print(np.remainder(a,3))\n"
   ]
  }
 ],
 "metadata": {
  "kernelspec": {
   "display_name": "Python 3 (ipykernel)",
   "language": "python",
   "name": "python3"
  },
  "language_info": {
   "codemirror_mode": {
    "name": "ipython",
    "version": 3
   },
   "file_extension": ".py",
   "mimetype": "text/x-python",
   "name": "python",
   "nbconvert_exporter": "python",
   "pygments_lexer": "ipython3",
   "version": "3.10.12"
  }
 },
 "nbformat": 4,
 "nbformat_minor": 5
}
